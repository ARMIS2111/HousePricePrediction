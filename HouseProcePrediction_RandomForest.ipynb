{
 "cells": [
  {
   "cell_type": "code",
   "execution_count": 2,
   "id": "0d01853d",
   "metadata": {
    "execution": {
     "iopub.execute_input": "2023-04-08T20:03:45.502300Z",
     "iopub.status.busy": "2023-04-08T20:03:45.501410Z",
     "iopub.status.idle": "2023-04-08T20:03:48.002579Z",
     "shell.execute_reply": "2023-04-08T20:03:48.001148Z"
    },
    "papermill": {
     "duration": 2.509844,
     "end_time": "2023-04-08T20:03:48.005416",
     "exception": false,
     "start_time": "2023-04-08T20:03:45.495572",
     "status": "completed"
    },
    "tags": []
   },
   "outputs": [
    {
     "name": "stdout",
     "output_type": "stream",
     "text": [
      "Validation MAE for Random Forest Model: 17,906\n"
     ]
    }
   ],
   "source": [
    "# Import helpful libraries\n",
    "import pandas as pd\n",
    "from sklearn.ensemble import RandomForestRegressor\n",
    "from sklearn.metrics import mean_absolute_error\n",
    "from sklearn.model_selection import train_test_split\n",
    "\n",
    "# Load the data, and separate the target\n",
    "iowa_file_path = '../input/train.csv'\n",
    "home_data = pd.read_csv(iowa_file_path)\n",
    "y = home_data.SalePrice\n",
    "\n",
    "# Create X (After completing the exercise, you can return to modify this line!)\n",
    "features = ['MSSubClass',\n",
    "            'LotArea',\n",
    "            'OverallQual',\n",
    "            'OverallCond',\n",
    "            'YearBuilt',\n",
    "            'YearRemodAdd',\n",
    "            '1stFlrSF',\n",
    "            '2ndFlrSF',\n",
    "            'LowQualFinSF',\n",
    "            'GrLivArea',\n",
    "            'FullBath',\n",
    "            'HalfBath',\n",
    "            'BedroomAbvGr',\n",
    "            'KitchenAbvGr',\n",
    "            'TotRmsAbvGrd',\n",
    "            'Fireplaces',\n",
    "            'WoodDeckSF',\n",
    "            'OpenPorchSF',\n",
    "            'EnclosedPorch',\n",
    "            '3SsnPorch',\n",
    "            'ScreenPorch',\n",
    "            'PoolArea',\n",
    "            'MiscVal',\n",
    "            'MoSold',\n",
    "            'YrSold']\n",
    "\n",
    "# Select columns corresponding to features, and preview the data\n",
    "X = home_data[features]\n",
    "X.head()\n",
    "\n",
    "# Split into validation and training data\n",
    "train_X, val_X, train_y, val_y = train_test_split(X, y, random_state=1)\n",
    "\n",
    "# Define a random forest model\n",
    "rf_model = RandomForestRegressor(random_state=1)\n",
    "rf_model.fit(train_X, train_y)\n",
    "rf_val_predictions = rf_model.predict(val_X)\n",
    "rf_val_mae = mean_absolute_error(rf_val_predictions, val_y)\n",
    "\n",
    "print(\"Validation MAE for Random Forest Model: {:,.0f}\".format(rf_val_mae))"
   ]
  },
  {
   "cell_type": "markdown",
   "id": "1e6416cb",
   "metadata": {
    "papermill": {
     "duration": 0.003743,
     "end_time": "2023-04-08T20:03:48.013359",
     "exception": false,
     "start_time": "2023-04-08T20:03:48.009616",
     "status": "completed"
    },
    "tags": []
   },
   "source": [
    "# Train a model\n",
    "\n",
    "The code cell above trains a Random Forest model on **`train_X`** and **`train_y`**.  \n",
    "\n",
    "Use the code cell below to build a Random Forest model and train it on all of **`X`** and **`y`**."
   ]
  },
  {
   "cell_type": "code",
   "execution_count": 3,
   "id": "46e7d492",
   "metadata": {
    "execution": {
     "iopub.execute_input": "2023-04-08T20:03:48.023914Z",
     "iopub.status.busy": "2023-04-08T20:03:48.023205Z",
     "iopub.status.idle": "2023-04-08T20:03:49.109352Z",
     "shell.execute_reply": "2023-04-08T20:03:49.107928Z"
    },
    "papermill": {
     "duration": 1.094542,
     "end_time": "2023-04-08T20:03:49.111948",
     "exception": false,
     "start_time": "2023-04-08T20:03:48.017406",
     "status": "completed"
    },
    "tags": []
   },
   "outputs": [
    {
     "data": {
      "text/plain": [
       "RandomForestRegressor(random_state=1)"
      ]
     },
     "execution_count": 3,
     "metadata": {},
     "output_type": "execute_result"
    }
   ],
   "source": [
    "# To improve accuracy, create a new Random Forest model which you will train on all training data\n",
    "rf_model_on_full_data = RandomForestRegressor(random_state = 1)\n",
    "\n",
    "# fit rf_model_on_full_data on all data from the training data\n",
    "rf_model_on_full_data.fit(X, y)"
   ]
  },
  {
   "cell_type": "markdown",
   "id": "324f2731",
   "metadata": {
    "papermill": {
     "duration": 0.003978,
     "end_time": "2023-04-08T20:03:49.120159",
     "exception": false,
     "start_time": "2023-04-08T20:03:49.116181",
     "status": "completed"
    },
    "tags": []
   },
   "source": [
    "Now, read the file of \"test\" data, and apply your model to make predictions."
   ]
  },
  {
   "cell_type": "code",
   "execution_count": 4,
   "id": "b19ef92e",
   "metadata": {
    "execution": {
     "iopub.execute_input": "2023-04-08T20:03:49.130911Z",
     "iopub.status.busy": "2023-04-08T20:03:49.130241Z",
     "iopub.status.idle": "2023-04-08T20:03:49.210991Z",
     "shell.execute_reply": "2023-04-08T20:03:49.209743Z"
    },
    "papermill": {
     "duration": 0.090038,
     "end_time": "2023-04-08T20:03:49.214388",
     "exception": false,
     "start_time": "2023-04-08T20:03:49.124350",
     "status": "completed"
    },
    "tags": []
   },
   "outputs": [],
   "source": [
    "# path to file you will use for predictions\n",
    "test_data_path = '../input/test.csv'\n",
    "\n",
    "# read test data file using pandas\n",
    "test_data = pd.read_csv(test_data_path)\n",
    "\n",
    "# create test_X which comes from test_data but includes only the columns you used for prediction.\n",
    "# The list of columns is stored in a variable called features\n",
    "test_X = test_data[features]\n",
    "\n",
    "# make predictions which we will submit. \n",
    "test_preds = rf_model_on_full_data.predict(test_X)\n"
   ]
  },
  {
   "cell_type": "markdown",
   "id": "4c80c7f7",
   "metadata": {
    "papermill": {
     "duration": 0.003908,
     "end_time": "2023-04-08T20:03:49.222634",
     "exception": false,
     "start_time": "2023-04-08T20:03:49.218726",
     "status": "completed"
    },
    "tags": []
   },
   "source": [
    "Before submitting, run a check to make sure your `test_preds` have the right format."
   ]
  },
  {
   "cell_type": "code",
   "execution_count": 5,
   "id": "b5fe17d5",
   "metadata": {
    "execution": {
     "iopub.execute_input": "2023-04-08T20:03:49.233085Z",
     "iopub.status.busy": "2023-04-08T20:03:49.232620Z",
     "iopub.status.idle": "2023-04-08T20:03:49.242868Z",
     "shell.execute_reply": "2023-04-08T20:03:49.241971Z"
    },
    "papermill": {
     "duration": 0.018426,
     "end_time": "2023-04-08T20:03:49.245354",
     "exception": false,
     "start_time": "2023-04-08T20:03:49.226928",
     "status": "completed"
    },
    "tags": []
   },
   "outputs": [
    {
     "data": {
      "application/javascript": [
       "parent.postMessage({\"jupyterEvent\": \"custom.exercise_interaction\", \"data\": {\"outcomeType\": 1, \"valueTowardsCompletion\": 1.0, \"interactionType\": 1, \"questionType\": 2, \"questionId\": \"1_CheckSubmittablePreds\", \"learnToolsVersion\": \"0.3.4\", \"failureMessage\": \"\", \"exceptionClass\": \"\", \"trace\": \"\"}}, \"*\")"
      ],
      "text/plain": [
       "<IPython.core.display.Javascript object>"
      ]
     },
     "metadata": {},
     "output_type": "display_data"
    },
    {
     "data": {
      "text/markdown": [
       "<span style=\"color:#33cc33\">Correct</span>"
      ],
      "text/plain": [
       "Correct"
      ]
     },
     "metadata": {},
     "output_type": "display_data"
    }
   ],
   "source": [
    "# Check your answer (To get credit for completing the exercise, you must get a \"Correct\" result!)\n",
    "step_1.check()\n",
    "# step_1.solution()"
   ]
  },
  {
   "cell_type": "markdown",
   "id": "a925d346",
   "metadata": {
    "papermill": {
     "duration": 0.004125,
     "end_time": "2023-04-08T20:03:49.253943",
     "exception": false,
     "start_time": "2023-04-08T20:03:49.249818",
     "status": "completed"
    },
    "tags": []
   },
   "source": [
    "# Generate output\n",
    "\n",
    "Run the code cell below to generate a CSV file with your predictions that you can use."
   ]
  },
  {
   "cell_type": "code",
   "execution_count": 6,
   "id": "11ef42f2",
   "metadata": {
    "execution": {
     "iopub.execute_input": "2023-04-08T20:03:49.265637Z",
     "iopub.status.busy": "2023-04-08T20:03:49.264418Z",
     "iopub.status.idle": "2023-04-08T20:03:49.280400Z",
     "shell.execute_reply": "2023-04-08T20:03:49.279154Z"
    },
    "papermill": {
     "duration": 0.025082,
     "end_time": "2023-04-08T20:03:49.283517",
     "exception": false,
     "start_time": "2023-04-08T20:03:49.258435",
     "status": "completed"
    },
    "tags": []
   },
   "outputs": [],
   "source": [
    "# Run the code to save predictions in the format used for competition scoring\n",
    "\n",
    "output = pd.DataFrame({'Id': test_data.Id,\n",
    "                       'SalePrice': test_preds})\n",
    "output.to_csv('submission.csv', index=False)"
   ]
  }
 ],
 "metadata": {
  "kernelspec": {
   "display_name": "Python 3 (ipykernel)",
   "language": "python",
   "name": "python3"
  },
  "language_info": {
   "codemirror_mode": {
    "name": "ipython",
    "version": 3
   },
   "file_extension": ".py",
   "mimetype": "text/x-python",
   "name": "python",
   "nbconvert_exporter": "python",
   "pygments_lexer": "ipython3",
   "version": "3.10.6"
  },
  "papermill": {
   "default_parameters": {},
   "duration": 15.990777,
   "end_time": "2023-04-08T20:03:50.131563",
   "environment_variables": {},
   "exception": null,
   "input_path": "__notebook__.ipynb",
   "output_path": "__notebook__.ipynb",
   "parameters": {},
   "start_time": "2023-04-08T20:03:34.140786",
   "version": "2.4.0"
  }
 },
 "nbformat": 4,
 "nbformat_minor": 5
}
